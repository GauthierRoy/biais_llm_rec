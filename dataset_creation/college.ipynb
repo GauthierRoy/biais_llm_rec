{
 "cells": [
  {
   "cell_type": "code",
   "execution_count": 10,
   "metadata": {},
   "outputs": [],
   "source": [
    "import kagglehub\n",
    "import os\n",
    "import pandas as pd\n",
    "import json \n",
    "\n",
    "\n",
    "DATASET_PATH = \"data/datasets/\"\n",
    "ROOT_PATH = \"../\"\n",
    "\n",
    "with open(f'{ROOT_PATH}.config', 'r') as f:\n",
    "    lines = f.readlines()\n",
    "for line in lines:\n",
    "    if line.startswith('KAGGLE_USERNAME'):\n",
    "        username = line.split('=')[1].strip()\n",
    "    elif line.startswith('KAGGLE_KEY'):\n",
    "        key = line.split('=')[1].strip()\n",
    "\n",
    "os.environ[\"KAGGLE_USERNAME\"] = username\n",
    "os.environ[\"KAGGLE_KEY\"] = key\n",
    "\n",
    "\n",
    "# Download latest version\n",
    "path = kagglehub.dataset_download(\"tahirrfarooqq/2023-qs-world-university-ranking\")\n",
    "df = pd.read_csv(os.path.join(path, \"2023 QS World University Rankings.csv\"))\n",
    "# handeling cases such as \"University of California, Los Angeles (UCLA)\"\n",
    "df['institution'] = df['institution'].str.replace(',', ' -') \n",
    "\n",
    "colleges = df.institution.values.tolist()\n",
    "with open(f'{ROOT_PATH}{DATASET_PATH}college.json', 'w') as f:\n",
    "    json.dump(colleges, f, ensure_ascii=False, indent=4)\n"
   ]
  }
 ],
 "metadata": {
  "kernelspec": {
   "display_name": "venv",
   "language": "python",
   "name": "python3"
  },
  "language_info": {
   "codemirror_mode": {
    "name": "ipython",
    "version": 3
   },
   "file_extension": ".py",
   "mimetype": "text/x-python",
   "name": "python",
   "nbconvert_exporter": "python",
   "pygments_lexer": "ipython3",
   "version": "3.12.8"
  }
 },
 "nbformat": 4,
 "nbformat_minor": 2
}
