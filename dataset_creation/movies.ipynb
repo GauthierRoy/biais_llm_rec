{
 "cells": [
  {
   "cell_type": "code",
   "execution_count": null,
   "metadata": {},
   "outputs": [],
   "source": [
    "import requests\n",
    "import json\n",
    "from tqdm import tqdm\n",
    "import os\n",
    "\n",
    "ROOT_PATH = \"../\"\n",
    "URL = \"https://api.themoviedb.org/3/discover/movie?include_adult=false&include_video=false&language=en-US&release_date.lte=01%2F01%2F2024&sort_by=popularity.desc&vote_average.gte=8\"\n",
    "DATASET_PATH = \"data/datasets/\"\n",
    "\n",
    "\n",
    "with open(f'{ROOT_PATH}.config', 'r') as f:\n",
    "    lines = f.readlines()\n",
    "for line in lines:\n",
    "    if line.startswith('TMBD_BEARER_TOKEN'):\n",
    "        token = line.split('=')[1].strip()\n",
    "\n",
    "\n",
    "headers = {\n",
    "    \"accept\": \"application/json\",\n",
    "    \"Authorization\": f\"Bearer {token}\",\n",
    "}\n",
    "\n",
    "\n",
    "response = requests.get(URL, headers=headers)\n",
    "\n",
    "data = response.json()\n",
    "total_pages = data['total_pages']\n",
    "\n",
    "def get_one_page(page, url):\n",
    "    url = f\"{url}&page={page}\"\n",
    "    response = requests.get(url, headers=headers)\n",
    "    return response.json()\n",
    "\n",
    "def get_all_pages(total_pages, url, max_pages=None):\n",
    "    all_data = []\n",
    "    for page in tqdm(range(1, total_pages + 1)):\n",
    "        if max_pages and page > max_pages:\n",
    "            break\n",
    "        data = get_one_page(page, url)\n",
    "        for movie in data['results']:\n",
    "            all_data.append(get_one_movie(movie))\n",
    "\n",
    "    return all_data\n",
    "\n",
    "def get_one_movie(movie):\n",
    "    title = movie['title']\n",
    "    release_date = movie['release_date']\n",
    "    vote_average = movie['vote_average']\n",
    "    # print(f\"Title: {title}, Release Date: {release_date}, Vote Average: {vote_average}\")\n",
    "    return title\n",
    "\n",
    "url = \"https://api.themoviedb.org/3/discover/movie?include_adult=false&include_video=false&language=en-US&release_date.lte=01%2F01%2F2024&sort_by=popularity.desc&vote_average.gte=8\"\n",
    "movies = get_all_pages(total_pages, url, max_pages=100)\n",
    "with open(f'{ROOT_PATH}{DATASET_PATH}movies.json', 'w') as f:\n",
    "    json.dump(movies, f, ensure_ascii=False, indent=4)\n"
   ]
  }
 ],
 "metadata": {
  "kernelspec": {
   "display_name": "venv",
   "language": "python",
   "name": "python3"
  },
  "language_info": {
   "codemirror_mode": {
    "name": "ipython",
    "version": 3
   },
   "file_extension": ".py",
   "mimetype": "text/x-python",
   "name": "python",
   "nbconvert_exporter": "python",
   "pygments_lexer": "ipython3",
   "version": "3.12.8"
  }
 },
 "nbformat": 4,
 "nbformat_minor": 2
}
