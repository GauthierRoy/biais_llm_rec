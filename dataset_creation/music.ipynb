{
 "cells": [
  {
   "cell_type": "code",
   "execution_count": 3,
   "metadata": {},
   "outputs": [],
   "source": [
    "import spotipy\n",
    "import json\n",
    "from spotipy.oauth2 import SpotifyClientCredentials\n",
    "\n",
    "\n",
    "DATASET_PATH = \"data/datasets/\"\n",
    "ROOT_PATH = \"../\"\n",
    "\n",
    "with open(f'{ROOT_PATH}.config', 'r') as f:\n",
    "    lines = f.readlines()\n",
    "for line in lines:\n",
    "    if line.startswith('SPOTIPY_CLIENT_ID'):\n",
    "        id = line.split('=')[1].strip()\n",
    "    elif line.startswith('SPOTIPY_CLIENT_SECRET'):\n",
    "        secret = line.split('=')[1].strip()\n",
    "\n",
    "sp = spotipy.Spotify(auth_manager=SpotifyClientCredentials(\n",
    "    client_id=id,\n",
    "    client_secret=secret\n",
    "))\n",
    "\n",
    "# Search for most popular songs in the given time range\n",
    "years = [\"2020\", \"2021\", \"2022\", \"2023\"]\n",
    "top_songs = []\n",
    "\n",
    "for year in years:\n",
    "    results = sp.search(q=f\"year:{year}\", type=\"track\", limit=50)\n",
    "    for track in results[\"tracks\"][\"items\"]:\n",
    "        song = track[\"name\"]\n",
    "        artist = track[\"artists\"][0][\"name\"]\n",
    "        top_songs.append(f\"{song} - {artist}\")\n",
    "\n",
    "\n",
    "\n",
    "with open(f'{ROOT_PATH}{DATASET_PATH}music.json', 'w') as f:\n",
    "    json.dump(top_songs, f, ensure_ascii=False, indent=4)\n"
   ]
  }
 ],
 "metadata": {
  "kernelspec": {
   "display_name": "venv",
   "language": "python",
   "name": "python3"
  },
  "language_info": {
   "codemirror_mode": {
    "name": "ipython",
    "version": 3
   },
   "file_extension": ".py",
   "mimetype": "text/x-python",
   "name": "python",
   "nbconvert_exporter": "python",
   "pygments_lexer": "ipython3",
   "version": "3.12.8"
  }
 },
 "nbformat": 4,
 "nbformat_minor": 2
}
