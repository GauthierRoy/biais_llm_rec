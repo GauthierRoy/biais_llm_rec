{
 "cells": [
  {
   "cell_type": "code",
   "execution_count": null,
   "metadata": {},
   "outputs": [
    {
     "name": "stderr",
     "output_type": "stream",
     "text": [
      "HTTP Error for GET to https://api.spotify.com/v1/search with Params: {'q': 'year:2020', 'limit': 100, 'offset': 0, 'type': 'track', 'market': None} returned 400 due to Invalid limit\n"
     ]
    },
    {
     "ename": "SpotifyException",
     "evalue": "http status: 400, code: -1 - https://api.spotify.com/v1/search?q=year%3A2020&limit=100&offset=0&type=track:\n Invalid limit, reason: None",
     "output_type": "error",
     "traceback": [
      "\u001b[31m---------------------------------------------------------------------------\u001b[39m",
      "\u001b[31mHTTPError\u001b[39m                                 Traceback (most recent call last)",
      "\u001b[36mFile \u001b[39m\u001b[32m~/faiRLLM/venv/lib/python3.12/site-packages/spotipy/client.py:274\u001b[39m, in \u001b[36mSpotify._internal_call\u001b[39m\u001b[34m(self, method, url, payload, params)\u001b[39m\n\u001b[32m    269\u001b[39m response = \u001b[38;5;28mself\u001b[39m._session.request(\n\u001b[32m    270\u001b[39m     method, url, headers=headers, proxies=\u001b[38;5;28mself\u001b[39m.proxies,\n\u001b[32m    271\u001b[39m     timeout=\u001b[38;5;28mself\u001b[39m.requests_timeout, **args\n\u001b[32m    272\u001b[39m )\n\u001b[32m--> \u001b[39m\u001b[32m274\u001b[39m \u001b[43mresponse\u001b[49m\u001b[43m.\u001b[49m\u001b[43mraise_for_status\u001b[49m\u001b[43m(\u001b[49m\u001b[43m)\u001b[49m\n\u001b[32m    275\u001b[39m results = response.json()\n",
      "\u001b[36mFile \u001b[39m\u001b[32m~/faiRLLM/venv/lib/python3.12/site-packages/requests/models.py:1024\u001b[39m, in \u001b[36mResponse.raise_for_status\u001b[39m\u001b[34m(self)\u001b[39m\n\u001b[32m   1023\u001b[39m \u001b[38;5;28;01mif\u001b[39;00m http_error_msg:\n\u001b[32m-> \u001b[39m\u001b[32m1024\u001b[39m     \u001b[38;5;28;01mraise\u001b[39;00m HTTPError(http_error_msg, response=\u001b[38;5;28mself\u001b[39m)\n",
      "\u001b[31mHTTPError\u001b[39m: 400 Client Error: Bad Request for url: https://api.spotify.com/v1/search?q=year%3A2020&limit=100&offset=0&type=track",
      "\nDuring handling of the above exception, another exception occurred:\n",
      "\u001b[31mSpotifyException\u001b[39m                          Traceback (most recent call last)",
      "\u001b[36mCell\u001b[39m\u001b[36m \u001b[39m\u001b[32mIn[2]\u001b[39m\u001b[32m, line 27\u001b[39m\n\u001b[32m     24\u001b[39m top_songs = []\n\u001b[32m     26\u001b[39m \u001b[38;5;28;01mfor\u001b[39;00m year \u001b[38;5;129;01min\u001b[39;00m years:\n\u001b[32m---> \u001b[39m\u001b[32m27\u001b[39m     results = \u001b[43msp\u001b[49m\u001b[43m.\u001b[49m\u001b[43msearch\u001b[49m\u001b[43m(\u001b[49m\u001b[43mq\u001b[49m\u001b[43m=\u001b[49m\u001b[33;43mf\u001b[39;49m\u001b[33;43m\"\u001b[39;49m\u001b[33;43myear:\u001b[39;49m\u001b[38;5;132;43;01m{\u001b[39;49;00m\u001b[43myear\u001b[49m\u001b[38;5;132;43;01m}\u001b[39;49;00m\u001b[33;43m\"\u001b[39;49m\u001b[43m,\u001b[49m\u001b[43m \u001b[49m\u001b[38;5;28;43mtype\u001b[39;49m\u001b[43m=\u001b[49m\u001b[33;43m\"\u001b[39;49m\u001b[33;43mtrack\u001b[39;49m\u001b[33;43m\"\u001b[39;49m\u001b[43m,\u001b[49m\u001b[43m \u001b[49m\u001b[43mlimit\u001b[49m\u001b[43m=\u001b[49m\u001b[32;43m100\u001b[39;49m\u001b[43m)\u001b[49m\n\u001b[32m     28\u001b[39m     \u001b[38;5;28;01mfor\u001b[39;00m track \u001b[38;5;129;01min\u001b[39;00m results[\u001b[33m\"\u001b[39m\u001b[33mtracks\u001b[39m\u001b[33m\"\u001b[39m][\u001b[33m\"\u001b[39m\u001b[33mitems\u001b[39m\u001b[33m\"\u001b[39m]:\n\u001b[32m     29\u001b[39m         song = track[\u001b[33m\"\u001b[39m\u001b[33mname\u001b[39m\u001b[33m\"\u001b[39m]\n",
      "\u001b[36mFile \u001b[39m\u001b[32m~/faiRLLM/venv/lib/python3.12/site-packages/spotipy/client.py:604\u001b[39m, in \u001b[36mSpotify.search\u001b[39m\u001b[34m(self, q, limit, offset, type, market)\u001b[39m\n\u001b[32m    589\u001b[39m \u001b[38;5;28;01mdef\u001b[39;00m\u001b[38;5;250m \u001b[39m\u001b[34msearch\u001b[39m(\u001b[38;5;28mself\u001b[39m, q, limit=\u001b[32m10\u001b[39m, offset=\u001b[32m0\u001b[39m, \u001b[38;5;28mtype\u001b[39m=\u001b[33m\"\u001b[39m\u001b[33mtrack\u001b[39m\u001b[33m\"\u001b[39m, market=\u001b[38;5;28;01mNone\u001b[39;00m):\n\u001b[32m    590\u001b[39m \u001b[38;5;250m    \u001b[39m\u001b[33;03m\"\"\" searches for an item\u001b[39;00m\n\u001b[32m    591\u001b[39m \n\u001b[32m    592\u001b[39m \u001b[33;03m        Parameters:\u001b[39;00m\n\u001b[32m   (...)\u001b[39m\u001b[32m    602\u001b[39m \u001b[33;03m                       from_token.\u001b[39;00m\n\u001b[32m    603\u001b[39m \u001b[33;03m    \"\"\"\u001b[39;00m\n\u001b[32m--> \u001b[39m\u001b[32m604\u001b[39m     \u001b[38;5;28;01mreturn\u001b[39;00m \u001b[38;5;28;43mself\u001b[39;49m\u001b[43m.\u001b[49m\u001b[43m_get\u001b[49m\u001b[43m(\u001b[49m\n\u001b[32m    605\u001b[39m \u001b[43m        \u001b[49m\u001b[33;43m\"\u001b[39;49m\u001b[33;43msearch\u001b[39;49m\u001b[33;43m\"\u001b[39;49m\u001b[43m,\u001b[49m\u001b[43m \u001b[49m\u001b[43mq\u001b[49m\u001b[43m=\u001b[49m\u001b[43mq\u001b[49m\u001b[43m,\u001b[49m\u001b[43m \u001b[49m\u001b[43mlimit\u001b[49m\u001b[43m=\u001b[49m\u001b[43mlimit\u001b[49m\u001b[43m,\u001b[49m\u001b[43m \u001b[49m\u001b[43moffset\u001b[49m\u001b[43m=\u001b[49m\u001b[43moffset\u001b[49m\u001b[43m,\u001b[49m\u001b[43m \u001b[49m\u001b[38;5;28;43mtype\u001b[39;49m\u001b[43m=\u001b[49m\u001b[38;5;28;43mtype\u001b[39;49m\u001b[43m,\u001b[49m\u001b[43m \u001b[49m\u001b[43mmarket\u001b[49m\u001b[43m=\u001b[49m\u001b[43mmarket\u001b[49m\n\u001b[32m    606\u001b[39m \u001b[43m    \u001b[49m\u001b[43m)\u001b[49m\n",
      "\u001b[36mFile \u001b[39m\u001b[32m~/faiRLLM/venv/lib/python3.12/site-packages/spotipy/client.py:324\u001b[39m, in \u001b[36mSpotify._get\u001b[39m\u001b[34m(self, url, args, payload, **kwargs)\u001b[39m\n\u001b[32m    321\u001b[39m \u001b[38;5;28;01mif\u001b[39;00m args:\n\u001b[32m    322\u001b[39m     kwargs.update(args)\n\u001b[32m--> \u001b[39m\u001b[32m324\u001b[39m \u001b[38;5;28;01mreturn\u001b[39;00m \u001b[38;5;28;43mself\u001b[39;49m\u001b[43m.\u001b[49m\u001b[43m_internal_call\u001b[49m\u001b[43m(\u001b[49m\u001b[33;43m\"\u001b[39;49m\u001b[33;43mGET\u001b[39;49m\u001b[33;43m\"\u001b[39;49m\u001b[43m,\u001b[49m\u001b[43m \u001b[49m\u001b[43murl\u001b[49m\u001b[43m,\u001b[49m\u001b[43m \u001b[49m\u001b[43mpayload\u001b[49m\u001b[43m,\u001b[49m\u001b[43m \u001b[49m\u001b[43mkwargs\u001b[49m\u001b[43m)\u001b[49m\n",
      "\u001b[36mFile \u001b[39m\u001b[32m~/faiRLLM/venv/lib/python3.12/site-packages/spotipy/client.py:294\u001b[39m, in \u001b[36mSpotify._internal_call\u001b[39m\u001b[34m(self, method, url, payload, params)\u001b[39m\n\u001b[32m    289\u001b[39m         reason = \u001b[38;5;28;01mNone\u001b[39;00m\n\u001b[32m    291\u001b[39m     logger.error(\u001b[33mf\u001b[39m\u001b[33m\"\u001b[39m\u001b[33mHTTP Error for \u001b[39m\u001b[38;5;132;01m{\u001b[39;00mmethod\u001b[38;5;132;01m}\u001b[39;00m\u001b[33m to \u001b[39m\u001b[38;5;132;01m{\u001b[39;00murl\u001b[38;5;132;01m}\u001b[39;00m\u001b[33m with Params: \u001b[39m\u001b[33m\"\u001b[39m\n\u001b[32m    292\u001b[39m                  \u001b[33mf\u001b[39m\u001b[33m\"\u001b[39m\u001b[38;5;132;01m{\u001b[39;00margs.get(\u001b[33m'\u001b[39m\u001b[33mparams\u001b[39m\u001b[33m'\u001b[39m)\u001b[38;5;132;01m}\u001b[39;00m\u001b[33m returned \u001b[39m\u001b[38;5;132;01m{\u001b[39;00mresponse.status_code\u001b[38;5;132;01m}\u001b[39;00m\u001b[33m due to \u001b[39m\u001b[38;5;132;01m{\u001b[39;00mmsg\u001b[38;5;132;01m}\u001b[39;00m\u001b[33m\"\u001b[39m)\n\u001b[32m--> \u001b[39m\u001b[32m294\u001b[39m     \u001b[38;5;28;01mraise\u001b[39;00m SpotifyException(\n\u001b[32m    295\u001b[39m         response.status_code,\n\u001b[32m    296\u001b[39m         -\u001b[32m1\u001b[39m,\n\u001b[32m    297\u001b[39m         \u001b[33mf\u001b[39m\u001b[33m\"\u001b[39m\u001b[38;5;132;01m{\u001b[39;00mresponse.url\u001b[38;5;132;01m}\u001b[39;00m\u001b[33m:\u001b[39m\u001b[38;5;130;01m\\n\u001b[39;00m\u001b[33m \u001b[39m\u001b[38;5;132;01m{\u001b[39;00mmsg\u001b[38;5;132;01m}\u001b[39;00m\u001b[33m\"\u001b[39m,\n\u001b[32m    298\u001b[39m         reason=reason,\n\u001b[32m    299\u001b[39m         headers=response.headers,\n\u001b[32m    300\u001b[39m     )\n\u001b[32m    301\u001b[39m \u001b[38;5;28;01mexcept\u001b[39;00m requests.exceptions.RetryError \u001b[38;5;28;01mas\u001b[39;00m retry_error:\n\u001b[32m    302\u001b[39m     request = retry_error.request\n",
      "\u001b[31mSpotifyException\u001b[39m: http status: 400, code: -1 - https://api.spotify.com/v1/search?q=year%3A2020&limit=100&offset=0&type=track:\n Invalid limit, reason: None"
     ]
    }
   ],
   "source": [
    "import spotipy\n",
    "import json\n",
    "from spotipy.oauth2 import SpotifyClientCredentials\n",
    "\n",
    "\n",
    "DATASET_PATH = \"data/datasets/\"\n",
    "ROOT_PATH = \"../\"\n",
    "\n",
    "with open(f'{ROOT_PATH}.config', 'r') as f:\n",
    "    lines = f.readlines()\n",
    "for line in lines:\n",
    "    if line.startswith('SPOTIPY_CLIENT_ID'):\n",
    "        id = line.split('=')[1].strip()\n",
    "    elif line.startswith('SPOTIPY_CLIENT_SECRET'):\n",
    "        secret = line.split('=')[1].strip()\n",
    "\n",
    "sp = spotipy.Spotify(auth_manager=SpotifyClientCredentials(\n",
    "    client_id=id,\n",
    "    client_secret=secret\n",
    "))\n",
    "\n",
    "# Search for most popular songs in the given time range\n",
    "years = [\"2020\", \"2021\", \"2022\", \"2023\"]\n",
    "top_songs = []\n",
    "\n",
    "for year in years:\n",
    "    results = sp.search(q=f\"year:{year}\", type=\"track\", limit=50)\n",
    "    for track in results[\"tracks\"][\"items\"]:\n",
    "        song = track[\"name\"]\n",
    "        artist = track[\"artists\"][0][\"name\"]\n",
    "        top_songs.append(f\"{song} - {artist}\")\n",
    "\n",
    "\n",
    "\n",
    "with open(f'{ROOT_PATH}{DATASET_PATH}music.json', 'w') as f:\n",
    "    json.dump(top_songs, f, ensure_ascii=False, indent=4)\n"
   ]
  }
 ],
 "metadata": {
  "kernelspec": {
   "display_name": "venv",
   "language": "python",
   "name": "python3"
  },
  "language_info": {
   "codemirror_mode": {
    "name": "ipython",
    "version": 3
   },
   "file_extension": ".py",
   "mimetype": "text/x-python",
   "name": "python",
   "nbconvert_exporter": "python",
   "pygments_lexer": "ipython3",
   "version": "3.12.8"
  }
 },
 "nbformat": 4,
 "nbformat_minor": 2
}
